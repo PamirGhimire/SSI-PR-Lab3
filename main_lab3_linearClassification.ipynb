{
 "cells": [
  {
   "cell_type": "code",
   "execution_count": 129,
   "metadata": {
    "collapsed": true
   },
   "outputs": [],
   "source": [
    "#Scene Segmentation and Interpretation\n",
    "#Lab3 : Linear Classification\n",
    "#Pamir Ghimire, MSCV 2016-2018, UBourgogne\n"
   ]
  },
  {
   "cell_type": "code",
   "execution_count": 130,
   "metadata": {
    "collapsed": false
   },
   "outputs": [
    {
     "name": "stdout",
     "output_type": "stream",
     "text": [
      "Pretty printing has been turned OFF\n"
     ]
    }
   ],
   "source": [
    "# some useful libraries\n",
    "%matplotlib inline\n",
    "%pprint off\n",
    "import matplotlib.pyplot as plt\n",
    "import scipy as sp\n",
    "import numpy as np\n",
    "from numpy import linalg\n"
   ]
  },
  {
   "cell_type": "code",
   "execution_count": 131,
   "metadata": {
    "collapsed": true
   },
   "outputs": [],
   "source": [
    "# source: http://www.nhsilbert.net/source/2014/06/bivariate-normal-ellipse-plotting-in-python/\n",
    "\n",
    "def plot_cov_ellipse(cov, pos, volume=.5, ax=None, fc='none', ec=[0,0,0], a=1, lw=2):\n",
    "    \"\"\"\n",
    "    Plots an ellipse enclosing *volume* based on the specified covariance\n",
    "    matrix (*cov*) and location (*pos*). Additional keyword arguments are passed on to the \n",
    "    ellipse patch artist.\n",
    "\n",
    "    Parameters\n",
    "    ----------\n",
    "        cov : The 2x2 covariance matrix to base the ellipse on\n",
    "        pos : The location of the center of the ellipse. Expects a 2-element\n",
    "            sequence of [x0, y0].\n",
    "        volume : The volume inside the ellipse; defaults to 0.5\n",
    "        ax : The axis that the ellipse will be plotted on. Defaults to the \n",
    "            current axis.\n",
    "    \"\"\"\n",
    "    import numpy as np\n",
    "    from scipy.stats import chi2\n",
    "    import matplotlib.pyplot as plt\n",
    "    from matplotlib.patches import Ellipse\n",
    "\n",
    "    def eigsorted(cov):\n",
    "        vals, vecs = np.linalg.eigh(cov)\n",
    "        order = vals.argsort()[::-1]\n",
    "        return vals[order], vecs[:,order]\n",
    "\n",
    "    if ax is None:\n",
    "        ax = plt.gca()\n",
    "\n",
    "    vals, vecs = eigsorted(cov)\n",
    "    theta = np.degrees(np.arctan2(*vecs[:,0][::-1]))\n",
    "\n",
    "    kwrg = {'facecolor':fc, 'edgecolor':ec, 'alpha':a, 'linewidth':lw}\n",
    "\n",
    "    # Width and height are \"full\" widths, not radius\n",
    "    width, height = 2 * np.sqrt(chi2.ppf(volume,2)) * np.sqrt(vals)\n",
    "    ellip = Ellipse(xy=pos, width=width, height=height, angle=theta, **kwrg)\n",
    "\n",
    "    ax.add_artist(ellip)"
   ]
  },
  {
   "cell_type": "code",
   "execution_count": 132,
   "metadata": {
    "collapsed": false
   },
   "outputs": [],
   "source": [
    "# read the data file 'heightWeightData.txt'\n",
    "data_mat = np.loadtxt(\"heightWeightData.txt\", delimiter= \",\")\n",
    "\n",
    "# extract rows containing data of males (label = 1)\n",
    "labels = data_mat[:,0]\n",
    "idx_male = (labels == 1)\n",
    "\n",
    "X = data_mat[idx_male,1:3]\n",
    "\n",
    "# mean of male heights and weights\n",
    "mean_male = np.mean(X, 0)\n",
    "\n",
    "# covariance of male height and weight\n",
    "from numpy.matlib import repmat\n",
    "X_meanCentered = X - repmat(mean_male, np.size(X, 0), 1)\n",
    "cov_male = np.cov(X.T)\n",
    "\n",
    "# Normalization\n",
    "X_normalized = np.column_stack([X_meanCentered[:,0]*1./cov_male[0,0], X_meanCentered[:,1]*1./cov_male[1,1]]) \n",
    "mean_male_normalized = np.mean(X_normalized, 0)\n",
    "cov_male_normalized = np.cov(X_normalized.T)\n"
   ]
  },
  {
   "cell_type": "code",
   "execution_count": 141,
   "metadata": {
    "collapsed": false,
    "scrolled": true
   },
   "outputs": [
    {
     "data": {
      "image/png": "[encoded data removed]",
      "text/plain": [
       "<matplotlib.figure.Figure object at 0x7fb9472a1a90>"
      ]
     },
     "metadata": {},
     "output_type": "display_data"
    }
   ],
   "source": [
    "# visualizing male data and gaussians\n",
    "gaussianSamples = np.random.multivariate_normal(mean_male, cov_male, 1000)\n",
    "\n",
    "pdata = plt.scatter(X[:,0], X[:,1], color = 'r', marker = '.')\n",
    "pdatagauss = plot_cov_ellipse(cov_male, mean_male)\n",
    "\n",
    "plt.xlabel('Height of males')\n",
    "plt.ylabel('Weight of males')\n",
    "plt.title('Gaussian fitted to height and weight of males')\n",
    "\n",
    "plt.show()"
   ]
  },
  {
   "cell_type": "code",
   "execution_count": 159,
   "metadata": {
    "collapsed": false
   },
   "outputs": [],
   "source": [
    "# data whitening\n",
    "\n",
    "# estimate dominant eigenvectors of data\n",
    "cov_male_centered = np.cov(X_meanCentered.T)\n",
    "evals, evecs = np.linalg.eigh(cov_male_centered)\n",
    "order = evals.argsort()[::-1]\n",
    "evals = evals[order]\n",
    "evecs = evecs[:,order]\n",
    "\n",
    "# project data along the dominant eigenvectors \n",
    "#(since 2D data, 2D eigenvectors)\n",
    "X_whitened = np.dot(np.diag(1./evals), np.dot(evecs.T, X_meanCentered.T))\n",
    "X_whitened = X_whitened.T\n",
    "\n"
   ]
  },
  {
   "cell_type": "code",
   "execution_count": 165,
   "metadata": {
    "collapsed": false
   },
   "outputs": [
    {
     "data": {
      "image/png": "[encoded data removed]",
      "text/plain": [
       "<matplotlib.figure.Figure object at 0x7fb9473ab890>"
      ]
     },
     "metadata": {},
     "output_type": "display_data"
    },
    {
     "name": "stdout",
     "output_type": "stream",
     "text": [
      "[[  9.50724221e-04  -3.85494106e-19]\n",
      " [ -3.85494106e-19   1.31396910e-01]]\n"
     ]
    }
   ],
   "source": [
    "# visualizing male data and gaussians after normalization\n",
    "mean_male_whitened = np.mean(X_whitened, 0)\n",
    "cov_male_whitened = np.cov(X_whitened.T)\n",
    "\n",
    "plt.scatter(X_whitened[:,0], X_whitened[:,1], color = 'g', marker = '.')\n",
    "plot_cov_ellipse(cov_male_whitened, mean_male_whitened)\n",
    "\n",
    "plt.xlabel('Centered Height of males')\n",
    "plt.ylabel('Centered Weight of males')\n",
    "plt.title('Gaussian fitted to whitened height and weight of males')\n",
    "plt.xlim([-0.12, 0.12])\n",
    "plt.ylim([-1.5, 1.5])\n",
    "\n",
    "plt.show()\n",
    "\n",
    "print cov_male_whitened"
   ]
  },
  {
   "cell_type": "code",
   "execution_count": null,
   "metadata": {
    "collapsed": true
   },
   "outputs": [],
   "source": []
  }
 ],
 "metadata": {
  "kernelspec": {
   "display_name": "Python 2",
   "language": "python",
   "name": "python2"
  },
  "language_info": {
   "codemirror_mode": {
    "name": "ipython",
    "version": 2
   },
   "file_extension": ".py",
   "mimetype": "text/x-python",
   "name": "python",
   "nbconvert_exporter": "python",
   "pygments_lexer": "ipython2",
   "version": "2.7.10"
  }
 },
 "nbformat": 4,
 "nbformat_minor": 0
}
